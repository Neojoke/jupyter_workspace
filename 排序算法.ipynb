{
 "cells": [
  {
   "cell_type": "markdown",
   "metadata": {},
   "source": [
    "# 排序算法\n",
    "\n",
    "## 排序算法分类\n",
    "\n",
    "* 内部排序\n",
    "    * 插入排序\n",
    "        * 直接插入排序\n",
    "        * 希尔排序\n",
    "    * 选择排序\n",
    "        * 简单选择排序\n",
    "        * 堆排序\n",
    "    * 交换排序\n",
    "        * 冒泡排序\n",
    "        * 快速排序\n",
    "    * 归并排序\n",
    "    * 基数排序\n",
    "* 外部排序 内存与外存结合使用\n",
    "\n",
    "### 直接插入排序\n",
    "    时间复杂度 O(N2)\n",
    "    空间复杂度 O(1)\n",
    "    稳定性 稳定\n",
    "描述：\n",
    "    从第一个元素开始，当做已经排序好的数列，而后的元素与此列表一一对比，插入到合适的位置"
   ]
  },
  {
   "cell_type": "code",
   "execution_count": 38,
   "metadata": {},
   "outputs": [
    {
     "name": "stdout",
     "output_type": "stream",
     "text": [
      "[3, 4, 1, 8, 2, 4]\n",
      "[1, 3, 4, 8, 2, 4]\n",
      "[1, 3, 4, 8, 2, 4]\n",
      "[1, 2, 3, 4, 8, 4]\n",
      "[1, 2, 3, 4, 4, 8]\n",
      "[1, 2, 3, 4, 4, 8]\n"
     ]
    }
   ],
   "source": [
    "def insert_sort(arr):\n",
    "    length = len(arr)\n",
    "    for i in range(1, length):\n",
    "        insert_value = arr[i]\n",
    "        idx = i -1\n",
    "        while(idx >= 0 and insert_value < arr[idx]):\n",
    "            arr[idx+1] = arr[idx]\n",
    "            idx = idx - 1\n",
    "        arr[idx+1] = insert_value\n",
    "        print(arr)\n",
    "                \n",
    "a = [3, 4, 1, 8, 2, 4]\n",
    "insert_sort(a)\n",
    "print(a)\n"
   ]
  },
  {
   "cell_type": "markdown",
   "metadata": {},
   "source": [
    "### 简单选择排序\n",
    "    时间复杂度：O(N2)\n",
    "描述：\n",
    "从第一个元素开始，剩下元素为待排序数据数列，寻找最小，放到首元素中"
   ]
  },
  {
   "cell_type": "code",
   "execution_count": 1,
   "metadata": {},
   "outputs": [
    {
     "name": "stdout",
     "output_type": "stream",
     "text": [
      "[1, 2, 3, 4, 4, 8]\n"
     ]
    }
   ],
   "source": [
    "def selectSort(arr):\n",
    "    length = len(arr)\n",
    "    for i in (range(length)):\n",
    "        min_idx = i\n",
    "        for j in (range(i+ 1, length)):\n",
    "            if arr[j] < arr[min_idx]:\n",
    "                min_idx = j\n",
    "        if(min_idx != i):\n",
    "            temp = arr[i]\n",
    "            arr[i] = arr[min_idx]\n",
    "            arr[min_idx] = temp\n",
    "\n",
    "a = [3, 4, 1, 8, 2, 4]\n",
    "selectSort(a)\n",
    "print(a)"
   ]
  },
  {
   "cell_type": "markdown",
   "metadata": {},
   "source": [
    "### 希尔排序\n",
    "时间复杂度 O(n)\n",
    "\n",
    "描述，将数列按照len/3+1确定增量dk，按照增量，将数列分按照dk增量进行分组，每组进行插入排序，直到dk = 1"
   ]
  },
  {
   "cell_type": "code",
   "execution_count": 17,
   "metadata": {},
   "outputs": [
    {
     "name": "stdout",
     "output_type": "stream",
     "text": [
      "[4, 13, 27, 38, 49, 49, 55, 65, 76, 97]\n"
     ]
    }
   ],
   "source": [
    "def shell_insert_sort(arr, dk):\n",
    "    length = len(arr)\n",
    "    for k in range(dk): #在0-dk中进行插入排序\n",
    "        for i in range(k+ dk, length, dk): #第0，dk，2dk...为一组\n",
    "            temp = arr[i]\n",
    "            j = i- dk\n",
    "            while j>=k and arr[j] > temp:\n",
    "                arr[j+dk] = a[j]\n",
    "                j = j -dk\n",
    "            a[j+dk] = temp\n",
    "\n",
    "            \n",
    "def shell_sort(a):\n",
    "    n = len(a)\n",
    "    dk = n//2\n",
    "    while dk >= 1:\n",
    "        shell_insert_sort(a, dk)\n",
    "        dk = dk//2\n",
    "\n",
    "a = [49,38,65,97,76,13,27,49,55,4]\n",
    "shell_sort(a)\n",
    "print(a)"
   ]
  },
  {
   "cell_type": "markdown",
   "metadata": {},
   "source": [
    "### 冒泡排序\n",
    "描述：相邻元素进行比较，如果第二个比第一个大，就交换位置，对每一对元素都做相同的比较，直到最后，最后一位是最大的数，每一个元素都进行如此比较循环，除了最后一个"
   ]
  },
  {
   "cell_type": "code",
   "execution_count": 20,
   "metadata": {},
   "outputs": [
    {
     "name": "stdout",
     "output_type": "stream",
     "text": [
      "[4, 13, 27, 38, 49, 49, 55, 65, 76, 97]\n"
     ]
    }
   ],
   "source": [
    "def bubleSort(arr):\n",
    "    length = len(arr)\n",
    "    for i in range(length-1): # i是排好的倒数第几个最大的数\n",
    "        for j in range(0, length -1 -i):\n",
    "            if arr[j] > arr[j+1]:\n",
    "                temp = arr[j+1]\n",
    "                arr[j+1] = arr[j]\n",
    "                arr[j] = temp\n",
    "\n",
    "a = [49,38,65,97,76,13,27,49,55,4]\n",
    "bubleSort(a)\n",
    "print(a)"
   ]
  },
  {
   "cell_type": "markdown",
   "metadata": {},
   "source": [
    "### 快速排序\n",
    "快速排序是对冒泡排序的一种改进，其思想是分而治之，通过一趟排序，将要排序的数据分为两部分，其中一部分的所有数据都比另外的一部分的所有数据都小，然后再按照此方法对这两部分数据分别进行快速排序，整个排序递归进行\n"
   ]
  },
  {
   "cell_type": "code",
   "execution_count": 22,
   "metadata": {},
   "outputs": [
    {
     "name": "stdout",
     "output_type": "stream",
     "text": [
      "[1, 2, 2, 3, 4, 5, 5, 6, 7, 7, 9, 9, 10, 12, 15, 15, 17]\n"
     ]
    }
   ],
   "source": [
    "def quickSort(array):\n",
    "    if len(array) < 2:\n",
    "        return array\n",
    "    else:\n",
    "        baseValue = array[0]\n",
    "        less = [m for m in array[1:] if m < baseValue]\n",
    "        equal = [w for w in array if w == baseValue]\n",
    "        greater = [n for n in array[1:] if n > baseValue]\n",
    "    return quickSort(less) + equal + quickSort(greater)\n",
    "\n",
    "array = [2,3,5,7,1,4,6,15,5,2,7,9,10,15,9,17,12]\n",
    "print(quickSort(array))"
   ]
  },
  {
   "cell_type": "code",
   "execution_count": null,
   "metadata": {},
   "outputs": [],
   "source": []
  }
 ],
 "metadata": {
  "kernelspec": {
   "display_name": "Python 3",
   "language": "python",
   "name": "python3"
  },
  "language_info": {
   "codemirror_mode": {
    "name": "ipython",
    "version": 3
   },
   "file_extension": ".py",
   "mimetype": "text/x-python",
   "name": "python",
   "nbconvert_exporter": "python",
   "pygments_lexer": "ipython3",
   "version": "3.6.3"
  }
 },
 "nbformat": 4,
 "nbformat_minor": 2
}
