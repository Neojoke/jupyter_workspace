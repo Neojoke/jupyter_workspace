{
 "cells": [
  {
   "cell_type": "markdown",
   "metadata": {},
   "source": [
    "# 排序算法\n",
    "\n",
    "## 排序算法分类\n",
    "\n",
    "* 内部排序\n",
    "    * 插入排序\n",
    "        * 直接插入排序\n",
    "        * 希尔排序\n",
    "    * 选择排序\n",
    "        * 简单选择排序\n",
    "        * 堆排序\n",
    "    * 交换排序\n",
    "        * 冒泡排序\n",
    "        * 快速排序\n",
    "    * 归并排序\n",
    "    * 基数排序\n",
    "* 外部排序 内存与外存结合使用\n",
    "\n",
    "### 直接插入排序\n",
    "    时间复杂度 O(N2)\n",
    "    空间复杂度 O(1)\n",
    "    稳定性 稳定\n",
    "描述：\n",
    "    从第一个元素开始，当做已经排序好的数列，而后的元素与此列表一一对比，插入到合适的位置"
   ]
  },
  {
   "cell_type": "code",
   "execution_count": 38,
   "metadata": {},
   "outputs": [
    {
     "name": "stdout",
     "output_type": "stream",
     "text": [
      "[3, 4, 1, 8, 2, 4]\n",
      "[1, 3, 4, 8, 2, 4]\n",
      "[1, 3, 4, 8, 2, 4]\n",
      "[1, 2, 3, 4, 8, 4]\n",
      "[1, 2, 3, 4, 4, 8]\n",
      "[1, 2, 3, 4, 4, 8]\n"
     ]
    }
   ],
   "source": [
    "def insert_sort(arr):\n",
    "    length = len(arr)\n",
    "    for i in range(1, length):\n",
    "        insert_value = arr[i]\n",
    "        idx = i -1\n",
    "        while(idx >= 0 and insert_value < arr[idx]):\n",
    "            arr[idx+1] = arr[idx]\n",
    "            idx = idx - 1\n",
    "        arr[idx+1] = insert_value\n",
    "        print(arr)\n",
    "                \n",
    "a = [3, 4, 1, 8, 2, 4]\n",
    "insert_sort(a)\n",
    "print(a)\n"
   ]
  },
  {
   "cell_type": "code",
   "execution_count": null,
   "metadata": {},
   "outputs": [],
   "source": []
  },
  {
   "cell_type": "code",
   "execution_count": null,
   "metadata": {},
   "outputs": [],
   "source": []
  }
 ],
 "metadata": {
  "kernelspec": {
   "display_name": "Python 3",
   "language": "python",
   "name": "python3"
  },
  "language_info": {
   "codemirror_mode": {
    "name": "ipython",
    "version": 3
   },
   "file_extension": ".py",
   "mimetype": "text/x-python",
   "name": "python",
   "nbconvert_exporter": "python",
   "pygments_lexer": "ipython3",
   "version": "3.6.3"
  }
 },
 "nbformat": 4,
 "nbformat_minor": 2
}
